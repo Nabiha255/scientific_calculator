{
  "nbformat": 4,
  "nbformat_minor": 0,
  "metadata": {
    "colab": {
      "provenance": [],
      "authorship_tag": "ABX9TyO/lvYR1wObyFrBgL7Aq/5Z",
      "include_colab_link": true
    },
    "kernelspec": {
      "name": "python3",
      "display_name": "Python 3"
    },
    "language_info": {
      "name": "python"
    }
  },
  "cells": [
    {
      "cell_type": "markdown",
      "metadata": {
        "id": "view-in-github",
        "colab_type": "text"
      },
      "source": [
        "<a href=\"https://colab.research.google.com/github/Nabiha255/scientific_calculator/blob/main/scientific_calculator_py.ipynb\" target=\"_parent\"><img src=\"https://colab.research.google.com/assets/colab-badge.svg\" alt=\"Open In Colab\"/></a>"
      ]
    },
    {
      "cell_type": "code",
      "execution_count": null,
      "metadata": {
        "id": "RYZmcsAOY-D0"
      },
      "outputs": [],
      "source": [
        "import streamlit as st\n",
        "import math\n",
        "\n",
        "# Streamlit app\n",
        "st.title(\"Scientific Calculator\")\n",
        "\n",
        "# User input\n",
        "num1 = st.number_input(\"Enter first number:\", format=\"%.4f\")\n",
        "operation = st.selectbox(\"Select operation:\", [\n",
        "    \"Add\", \"Subtract\", \"Multiply\", \"Divide\",\n",
        "    \"Square Root\", \"Power (x^y)\"\n",
        "])\n",
        "\n",
        "if operation == \"Square Root\":\n",
        "    if st.button(\"Calculate\"):\n",
        "        if num1 < 0:\n",
        "            st.write(\"Cannot take the square root of a negative number!\")\n",
        "        else:\n",
        "            result = math.sqrt(num1)\n",
        "            st.write(f\"√{num1} = {result}\")\n",
        "\n",
        "elif operation == \"Power (x^y)\":\n",
        "    num2 = st.number_input(\"Enter second number:\", format=\"%.4f\")\n",
        "    if st.button(\"Calculate\"):\n",
        "        result = math.pow(num1, num2)\n",
        "        st.write(f\"{num1} ^ {num2} = {result}\")\n",
        "\n",
        "else:\n",
        "    num2 = st.number_input(\"Enter second number:\", format=\"%.4f\")\n",
        "    if st.button(\"Calculate\"):\n",
        "        if operation == \"Add\":\n",
        "            result = num1 + num2\n",
        "        elif operation == \"Subtract\":\n",
        "            result = num1 - num2\n",
        "        elif operation == \"Multiply\":\n",
        "            result = num1 * num2\n",
        "        elif operation == \"Divide\":\n",
        "            if num2 == 0:\n",
        "                result = \"Cannot divide by zero!\"\n",
        "            else:\n",
        "                result = num1 / num2\n",
        "\n",
        "        st.write(f\"The result is: {result}\")\n"
      ]
    }
  ]
}